{
 "cells": [
  {
   "cell_type": "code",
   "execution_count": 1,
   "metadata": {},
   "outputs": [],
   "source": [
    "import numpy as np"
   ]
  },
  {
   "cell_type": "code",
   "execution_count": 103,
   "metadata": {},
   "outputs": [
    {
     "name": "stdout",
     "output_type": "stream",
     "text": [
      "g20-2\n"
     ]
    }
   ],
   "source": [
    "dt = np.dtype([('time', np.unicode_, 16), ('ubication',np.unicode_, 16)])\n",
    "prueba = []\n",
    "a = np.arange(5)\n",
    "b = np.arange(1,30)\n",
    "prueba.clear()\n",
    "print(\"g20-2\")"
   ]
  },
  {
   "cell_type": "code",
   "execution_count": 104,
   "metadata": {},
   "outputs": [],
   "source": [
    "with open('tiempoTotal.txt','w') as file:\n",
    "    for i in a:\n",
    "        for j in b:\n",
    "            datos = np.loadtxt(\"results_LocGlo_\"+str(j)+\"/results/\"+str(j)+\"/g20-2/result\"+str(i)+\"_Hora.txt\", delimiter=\" \" ,dtype=dt)\n",
    "            c = str(datos)[2:10]\n",
    "            file.write(c+' ')\n",
    "        file.write('\\n')\n",
    "    for i in a:\n",
    "        for j in b:\n",
    "            datos = np.loadtxt(\"results_LocGlo_\"+str(j)+\"/results/\"+str(j)+\"/g20-4/result\"+str(i)+\"_Hora.txt\", delimiter=\" \" ,dtype=dt)\n",
    "            c = str(datos)[2:10]\n",
    "            file.write(c+' ')\n",
    "        file.write('\\n')\n",
    "    for i in a:\n",
    "        for j in b:\n",
    "            datos = np.loadtxt(\"results_LocGlo_\"+str(j)+\"/results/\"+str(j)+\"/gvar-2/result\"+str(i)+\"_Hora.txt\", delimiter=\" \" ,dtype=dt)\n",
    "            c = str(datos)[2:10]\n",
    "            file.write(c+' ')\n",
    "        file.write('\\n')\n",
    "    for i in a:\n",
    "        for j in b:\n",
    "            datos = np.loadtxt(\"results_LocGlo_\"+str(j)+\"/results/\"+str(j)+\"/l20-2/result\"+str(i)+\"_Hora.txt\", delimiter=\" \" ,dtype=dt)\n",
    "            c = str(datos)[2:10]\n",
    "            file.write(c+' ')\n",
    "        file.write('\\n')\n",
    "    for i in a:\n",
    "        for j in b:\n",
    "            datos = np.loadtxt(\"results_LocGlo_\"+str(j)+\"/results/\"+str(j)+\"/l20-4/result\"+str(i)+\"_Hora.txt\", delimiter=\" \" ,dtype=dt)\n",
    "            c = str(datos)[2:10]\n",
    "            file.write(c+' ')\n",
    "        file.write('\\n')\n",
    "    for i in a:\n",
    "        for j in b:\n",
    "            datos = np.loadtxt(\"results_LocGlo_\"+str(j)+\"/results/\"+str(j)+\"/lvar-2/result\"+str(i)+\"_Hora.txt\", delimiter=\" \" ,dtype=dt)\n",
    "            c = str(datos)[2:10]\n",
    "            file.write(c+' ')\n",
    "        file.write('\\n')"
   ]
  },
  {
   "cell_type": "code",
   "execution_count": null,
   "metadata": {},
   "outputs": [],
   "source": []
  }
 ],
 "metadata": {
  "kernelspec": {
   "display_name": "Python 3",
   "language": "python",
   "name": "python3"
  },
  "language_info": {
   "codemirror_mode": {
    "name": "ipython",
    "version": 3
   },
   "file_extension": ".py",
   "mimetype": "text/x-python",
   "name": "python",
   "nbconvert_exporter": "python",
   "pygments_lexer": "ipython3",
   "version": "3.8.3"
  }
 },
 "nbformat": 4,
 "nbformat_minor": 4
}
